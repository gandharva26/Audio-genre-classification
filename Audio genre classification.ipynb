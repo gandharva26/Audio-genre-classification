{
 "cells": [
  {
   "cell_type": "code",
   "execution_count": null,
   "metadata": {},
   "outputs": [],
   "source": [
    "import librosa\n",
    "import pandas as pd\n",
    "import numpy as np\n",
    "import matplotlib.pyplot as plt\n",
    "%matplotlib inline\n",
    "import os\n",
    "from PIL import Image\n",
    "import pathlib\n",
    "import csv"
   ]
  },
  {
   "cell_type": "code",
   "execution_count": 2,
   "metadata": {},
   "outputs": [
    {
     "name": "stderr",
     "output_type": "stream",
     "text": [
      "Using TensorFlow backend.\n"
     ]
    }
   ],
   "source": [
    "from sklearn.model_selection import train_test_split\n",
    "from sklearn.preprocessing import LabelEncoder, StandardScaler\n",
    "import keras\n",
    "import warnings\n",
    "warnings.filterwarnings('ignore')"
   ]
  },
  {
   "cell_type": "code",
   "execution_count": 3,
   "metadata": {},
   "outputs": [
    {
     "data": {
      "text/plain": [
       "<Figure size 720x720 with 0 Axes>"
      ]
     },
     "metadata": {},
     "output_type": "display_data"
    }
   ],
   "source": [
    "cmap = plt.get_cmap('inferno')\n",
    "\n",
    "plt.figure(figsize=(10,10))\n",
    "genres = 'blues classical country disco hiphop jazz metal pop reggae rock'.split()\n",
    "for g in genres:\n",
    "    pathlib.Path(f'img_data/{g}').mkdir(parents=True, exist_ok=True)     \n",
    "    for filename in os.listdir(f'C:/Users/bhats/Desktop/NSG ML/genres/{g}'):\n",
    "        songname = f'C:/Users/bhats/Desktop/NSG ML/genres/{g}/{filename}'\n",
    "        y, sr = librosa.load(songname, mono=True, duration=5)\n",
    "        plt.specgram(y, NFFT=2048, Fs=2, Fc=0, noverlap=128, cmap=cmap, sides='default', mode='default', scale='dB');\n",
    "        plt.axis('off');\n",
    "        plt.savefig(f'img_data/{g}/{filename[:-3].replace(\".\", \"\")}.png')\n",
    "        plt.clf()"
   ]
  },
  {
   "cell_type": "code",
   "execution_count": 4,
   "metadata": {},
   "outputs": [],
   "source": [
    "header = 'filename chroma_stft rmse spectral_centroid spectral_bandwidth rolloff zero_crossing_rate'\n",
    "for i in range(1, 21):\n",
    "    header += f' mfcc{i}'\n",
    "header += ' label'\n",
    "header = header.split()"
   ]
  },
  {
   "cell_type": "code",
   "execution_count": null,
   "metadata": {},
   "outputs": [],
   "source": [
    "file = open('data.csv', 'w', newline='')\n",
    "with file:\n",
    "    writer = csv.writer(file)\n",
    "    writer.writerow(header)\n",
    "genres = 'blues classical country disco hiphop jazz metal pop reggae rock'.split()\n",
    "for g in genres:\n",
    "    for filename in os.listdir(f'C:/Users/bhats/Desktop/NSG ML/genres/{g}'):\n",
    "        songname = f'C:/Users/bhats/Desktop/NSG ML/genres/{g}/{filename}'\n",
    "        y, sr = librosa.load(songname, mono=True, duration=30)\n",
    "        chroma_stft = librosa.feature.chroma_stft(y=y, sr=sr)\n",
    "        rmse = librosa.feature.rmse(y=y)\n",
    "        spec_cent = librosa.feature.spectral_centroid(y=y, sr=sr)\n",
    "        spec_bw = librosa.feature.spectral_bandwidth(y=y, sr=sr)\n",
    "        rolloff = librosa.feature.spectral_rolloff(y=y, sr=sr)\n",
    "        zcr = librosa.feature.zero_crossing_rate(y)\n",
    "        mfcc = librosa.feature.mfcc(y=y, sr=sr)\n",
    "        to_append = f'{filename} {np.mean(chroma_stft)} {np.mean(rmse)} {np.mean(spec_cent)} {np.mean(spec_bw)} {np.mean(rolloff)} {np.mean(zcr)}'    \n",
    "        for e in mfcc:\n",
    "            to_append += f' {np.mean(e)}'\n",
    "        to_append += f' {g}'\n",
    "        file = open('data.csv', 'a', newline='')\n",
    "        with file:\n",
    "            writer = csv.writer(file)\n",
    "            writer.writerow(to_append.split())\n"
   ]
  },
  {
   "cell_type": "code",
   "execution_count": null,
   "metadata": {},
   "outputs": [],
   "source": [
    "data = pd.read_csv('data.csv')\n",
    "data.head()"
   ]
  },
  {
   "cell_type": "code",
   "execution_count": 7,
   "metadata": {},
   "outputs": [
    {
     "data": {
      "text/plain": [
       "(1000, 28)"
      ]
     },
     "execution_count": 7,
     "metadata": {},
     "output_type": "execute_result"
    }
   ],
   "source": [
    "data.shape"
   ]
  },
  {
   "cell_type": "code",
   "execution_count": 8,
   "metadata": {},
   "outputs": [],
   "source": [
    "# Dropping unneccesary columns\n",
    "data = data.drop(['filename'],axis=1)"
   ]
  },
  {
   "cell_type": "code",
   "execution_count": 9,
   "metadata": {},
   "outputs": [],
   "source": [
    "genre_list = data.iloc[:, -1]\n",
    "encoder = LabelEncoder()\n",
    "y = encoder.fit_transform(genre_list)"
   ]
  },
  {
   "cell_type": "code",
   "execution_count": 10,
   "metadata": {},
   "outputs": [],
   "source": [
    "scaler = StandardScaler()\n",
    "X = scaler.fit_transform(np.array(data.iloc[:, :-1], dtype = float))"
   ]
  },
  {
   "cell_type": "code",
   "execution_count": 75,
   "metadata": {},
   "outputs": [],
   "source": [
    "X_train, X_test, y_train, y_test = train_test_split(X, y, test_size=0.2)"
   ]
  },
  {
   "cell_type": "code",
   "execution_count": 76,
   "metadata": {},
   "outputs": [
    {
     "data": {
      "text/plain": [
       "800"
      ]
     },
     "execution_count": 76,
     "metadata": {},
     "output_type": "execute_result"
    }
   ],
   "source": [
    "len(y_train)"
   ]
  },
  {
   "cell_type": "code",
   "execution_count": 77,
   "metadata": {},
   "outputs": [
    {
     "data": {
      "text/plain": [
       "200"
      ]
     },
     "execution_count": 77,
     "metadata": {},
     "output_type": "execute_result"
    }
   ],
   "source": [
    "len(y_test)"
   ]
  },
  {
   "cell_type": "code",
   "execution_count": 78,
   "metadata": {},
   "outputs": [
    {
     "data": {
      "text/plain": [
       "array([ 0.44421636,  1.10465319,  0.88901755,  1.52678374,  1.21601861,\n",
       "        0.44346947,  0.72196367, -0.58255056,  1.18285388, -1.65753694,\n",
       "        1.25332668, -1.32482862,  1.80897954, -1.01804305,  1.22454192,\n",
       "       -0.57680451,  0.37345806, -0.83616372,  0.66618714, -1.15500739,\n",
       "        0.5706717 ,  0.13800492,  1.64068314,  1.39655122,  2.31061819,\n",
       "        0.92296964])"
      ]
     },
     "execution_count": 78,
     "metadata": {},
     "output_type": "execute_result"
    }
   ],
   "source": [
    "X_train[10]"
   ]
  },
  {
   "cell_type": "code",
   "execution_count": 79,
   "metadata": {},
   "outputs": [],
   "source": [
    "from keras import models\n",
    "from keras import layers\n",
    "\n",
    "model = models.Sequential()\n",
    "model.add(layers.Dense(256, activation='relu', input_shape=(X_train.shape[1],)))\n",
    "\n",
    "model.add(layers.Dense(128, activation='relu'))\n",
    "\n",
    "model.add(layers.Dense(64, activation='relu'))\n",
    "\n",
    "model.add(layers.Dense(10, activation='softmax'))"
   ]
  },
  {
   "cell_type": "code",
   "execution_count": 80,
   "metadata": {},
   "outputs": [],
   "source": [
    "model.compile(optimizer='adam',\n",
    "              loss='sparse_categorical_crossentropy',\n",
    "              metrics=['accuracy'])"
   ]
  },
  {
   "cell_type": "code",
   "execution_count": 81,
   "metadata": {},
   "outputs": [
    {
     "name": "stdout",
     "output_type": "stream",
     "text": [
      "Epoch 1/20\n",
      "800/800 [==============================] - 1s 1ms/step - loss: 2.1671 - acc: 0.2500\n",
      "Epoch 2/20\n",
      "800/800 [==============================] - 0s 39us/step - loss: 1.8335 - acc: 0.3438\n",
      "Epoch 3/20\n",
      "800/800 [==============================] - 0s 40us/step - loss: 1.6130 - acc: 0.4125\n",
      "Epoch 4/20\n",
      "800/800 [==============================] - 0s 41us/step - loss: 1.4445 - acc: 0.4900\n",
      "Epoch 5/20\n",
      "800/800 [==============================] - 0s 43us/step - loss: 1.3108 - acc: 0.5112\n",
      "Epoch 6/20\n",
      "800/800 [==============================] - 0s 38us/step - loss: 1.1940 - acc: 0.5950\n",
      "Epoch 7/20\n",
      "800/800 [==============================] - 0s 38us/step - loss: 1.1172 - acc: 0.6250\n",
      "Epoch 8/20\n",
      "800/800 [==============================] - 0s 38us/step - loss: 1.0246 - acc: 0.6575\n",
      "Epoch 9/20\n",
      "800/800 [==============================] - 0s 39us/step - loss: 0.9585 - acc: 0.6812\n",
      "Epoch 10/20\n",
      "800/800 [==============================] - 0s 39us/step - loss: 0.9151 - acc: 0.7150\n",
      "Epoch 11/20\n",
      "800/800 [==============================] - 0s 39us/step - loss: 0.8521 - acc: 0.7325\n",
      "Epoch 12/20\n",
      "800/800 [==============================] - 0s 42us/step - loss: 0.8077 - acc: 0.7525\n",
      "Epoch 13/20\n",
      "800/800 [==============================] - 0s 42us/step - loss: 0.7647 - acc: 0.7525\n",
      "Epoch 14/20\n",
      "800/800 [==============================] - 0s 39us/step - loss: 0.7195 - acc: 0.7625\n",
      "Epoch 15/20\n",
      "800/800 [==============================] - 0s 40us/step - loss: 0.6799 - acc: 0.7775\n",
      "Epoch 16/20\n",
      "800/800 [==============================] - 0s 40us/step - loss: 0.6513 - acc: 0.8013\n",
      "Epoch 17/20\n",
      "800/800 [==============================] - 0s 42us/step - loss: 0.6199 - acc: 0.8050\n",
      "Epoch 18/20\n",
      "800/800 [==============================] - 0s 41us/step - loss: 0.5784 - acc: 0.8313\n",
      "Epoch 19/20\n",
      "800/800 [==============================] - 0s 41us/step - loss: 0.5607 - acc: 0.8263\n",
      "Epoch 20/20\n",
      "800/800 [==============================] - 0s 37us/step - loss: 0.5247 - acc: 0.8425\n"
     ]
    }
   ],
   "source": [
    "history = model.fit(X_train,\n",
    "                    y_train,\n",
    "                    epochs=20,\n",
    "                    batch_size=128)"
   ]
  },
  {
   "cell_type": "code",
   "execution_count": 82,
   "metadata": {},
   "outputs": [
    {
     "name": "stdout",
     "output_type": "stream",
     "text": [
      "200/200 [==============================] - 0s 2ms/step\n"
     ]
    }
   ],
   "source": [
    "test_loss, test_acc = model.evaluate(X_test,y_test)"
   ]
  },
  {
   "cell_type": "code",
   "execution_count": 83,
   "metadata": {},
   "outputs": [
    {
     "name": "stdout",
     "output_type": "stream",
     "text": [
      "test_acc:  0.675\n"
     ]
    }
   ],
   "source": [
    "print('test_acc: ',test_acc)"
   ]
  },
  {
   "cell_type": "code",
   "execution_count": 84,
   "metadata": {},
   "outputs": [],
   "source": [
    "x_val = X_train[:200]\n",
    "partial_x_train = X_train[200:]\n",
    "\n",
    "y_val = y_train[:200]\n",
    "partial_y_train = y_train[200:]"
   ]
  },
  {
   "cell_type": "code",
   "execution_count": 88,
   "metadata": {},
   "outputs": [
    {
     "name": "stdout",
     "output_type": "stream",
     "text": [
      "Train on 600 samples, validate on 200 samples\n",
      "Epoch 1/50\n",
      "600/600 [==============================] - 2s 3ms/step - loss: 2.1512 - acc: 0.2817 - val_loss: 1.7666 - val_acc: 0.3800\n",
      "Epoch 2/50\n",
      "600/600 [==============================] - 0s 243us/step - loss: 1.6716 - acc: 0.4183 - val_loss: 1.5027 - val_acc: 0.4850\n",
      "Epoch 3/50\n",
      "600/600 [==============================] - 0s 250us/step - loss: 1.3601 - acc: 0.4933 - val_loss: 1.3406 - val_acc: 0.5500\n",
      "Epoch 4/50\n",
      "600/600 [==============================] - 0s 253us/step - loss: 1.1596 - acc: 0.6050 - val_loss: 1.3026 - val_acc: 0.5500\n",
      "Epoch 5/50\n",
      "600/600 [==============================] - 0s 230us/step - loss: 1.0174 - acc: 0.6367 - val_loss: 1.2004 - val_acc: 0.5600\n",
      "Epoch 6/50\n",
      "600/600 [==============================] - 0s 197us/step - loss: 0.8861 - acc: 0.6983 - val_loss: 1.1732 - val_acc: 0.6200\n",
      "Epoch 7/50\n",
      "600/600 [==============================] - 0s 213us/step - loss: 0.8294 - acc: 0.7000 - val_loss: 1.1601 - val_acc: 0.6000\n",
      "Epoch 8/50\n",
      "600/600 [==============================] - 0s 245us/step - loss: 0.7200 - acc: 0.7667 - val_loss: 1.0857 - val_acc: 0.6650\n",
      "Epoch 9/50\n",
      "600/600 [==============================] - 0s 258us/step - loss: 0.6490 - acc: 0.7700 - val_loss: 1.1006 - val_acc: 0.6300\n",
      "Epoch 10/50\n",
      "600/600 [==============================] - 0s 257us/step - loss: 0.5698 - acc: 0.8167 - val_loss: 1.0977 - val_acc: 0.6900\n",
      "Epoch 11/50\n",
      "600/600 [==============================] - 0s 228us/step - loss: 0.4945 - acc: 0.8433 - val_loss: 1.1639 - val_acc: 0.6500\n",
      "Epoch 12/50\n",
      "600/600 [==============================] - 0s 241us/step - loss: 0.4588 - acc: 0.8383 - val_loss: 1.1512 - val_acc: 0.6350\n",
      "Epoch 13/50\n",
      "600/600 [==============================] - 0s 246us/step - loss: 0.4139 - acc: 0.8683 - val_loss: 1.2032 - val_acc: 0.6300\n",
      "Epoch 14/50\n",
      "600/600 [==============================] - 0s 215us/step - loss: 0.3720 - acc: 0.8750 - val_loss: 1.1735 - val_acc: 0.6500\n",
      "Epoch 15/50\n",
      "600/600 [==============================] - 0s 244us/step - loss: 0.3159 - acc: 0.9050 - val_loss: 1.1927 - val_acc: 0.6300\n",
      "Epoch 16/50\n",
      "600/600 [==============================] - 0s 211us/step - loss: 0.2768 - acc: 0.9217 - val_loss: 1.2016 - val_acc: 0.6400\n",
      "Epoch 17/50\n",
      "600/600 [==============================] - 0s 231us/step - loss: 0.2181 - acc: 0.9467 - val_loss: 1.1752 - val_acc: 0.6650\n",
      "Epoch 18/50\n",
      "600/600 [==============================] - 0s 216us/step - loss: 0.1934 - acc: 0.9533 - val_loss: 1.2505 - val_acc: 0.6700\n",
      "Epoch 19/50\n",
      "600/600 [==============================] - 0s 227us/step - loss: 0.1661 - acc: 0.9617 - val_loss: 1.2323 - val_acc: 0.6850\n",
      "Epoch 20/50\n",
      "600/600 [==============================] - 0s 223us/step - loss: 0.1443 - acc: 0.9600 - val_loss: 1.3509 - val_acc: 0.6750\n",
      "Epoch 21/50\n",
      "600/600 [==============================] - 0s 221us/step - loss: 0.1309 - acc: 0.9717 - val_loss: 1.2969 - val_acc: 0.6950\n",
      "Epoch 22/50\n",
      "600/600 [==============================] - 0s 204us/step - loss: 0.1070 - acc: 0.9733 - val_loss: 1.5001 - val_acc: 0.6400\n",
      "Epoch 23/50\n",
      "600/600 [==============================] - 0s 248us/step - loss: 0.0992 - acc: 0.9767 - val_loss: 1.3736 - val_acc: 0.6800\n",
      "Epoch 24/50\n",
      "600/600 [==============================] - 0s 229us/step - loss: 0.0996 - acc: 0.9867 - val_loss: 1.4869 - val_acc: 0.6800\n",
      "Epoch 25/50\n",
      "600/600 [==============================] - 0s 232us/step - loss: 0.1124 - acc: 0.9683 - val_loss: 1.4687 - val_acc: 0.6850\n",
      "Epoch 26/50\n",
      "600/600 [==============================] - 0s 209us/step - loss: 0.1226 - acc: 0.9650 - val_loss: 1.6782 - val_acc: 0.6550\n",
      "Epoch 27/50\n",
      "600/600 [==============================] - 0s 191us/step - loss: 0.1153 - acc: 0.9667 - val_loss: 1.3720 - val_acc: 0.6800\n",
      "Epoch 28/50\n",
      "600/600 [==============================] - 0s 187us/step - loss: 0.1469 - acc: 0.9600 - val_loss: 1.6467 - val_acc: 0.6350\n",
      "Epoch 29/50\n",
      "600/600 [==============================] - 0s 205us/step - loss: 0.1729 - acc: 0.9517 - val_loss: 1.6195 - val_acc: 0.6950\n",
      "Epoch 30/50\n",
      "600/600 [==============================] - 0s 225us/step - loss: 0.1137 - acc: 0.9683 - val_loss: 1.5994 - val_acc: 0.6350\n",
      "Epoch 31/50\n",
      "600/600 [==============================] - 0s 201us/step - loss: 0.1036 - acc: 0.9700 - val_loss: 1.4826 - val_acc: 0.6600\n",
      "Epoch 32/50\n",
      "600/600 [==============================] - 0s 192us/step - loss: 0.0765 - acc: 0.9867 - val_loss: 1.5093 - val_acc: 0.6700\n",
      "Epoch 33/50\n",
      "600/600 [==============================] - 0s 204us/step - loss: 0.0571 - acc: 0.9933 - val_loss: 1.4413 - val_acc: 0.6550\n",
      "Epoch 34/50\n",
      "600/600 [==============================] - 0s 207us/step - loss: 0.0433 - acc: 0.9933 - val_loss: 1.3754 - val_acc: 0.7050\n",
      "Epoch 35/50\n",
      "600/600 [==============================] - 0s 232us/step - loss: 0.0240 - acc: 1.0000 - val_loss: 1.4345 - val_acc: 0.7000\n",
      "Epoch 36/50\n",
      "600/600 [==============================] - 0s 218us/step - loss: 0.0225 - acc: 0.9983 - val_loss: 1.4377 - val_acc: 0.7000\n",
      "Epoch 37/50\n",
      "600/600 [==============================] - 0s 203us/step - loss: 0.0161 - acc: 0.9983 - val_loss: 1.4709 - val_acc: 0.6850\n",
      "Epoch 38/50\n",
      "600/600 [==============================] - 0s 224us/step - loss: 0.0180 - acc: 0.9983 - val_loss: 1.4895 - val_acc: 0.6850\n",
      "Epoch 39/50\n",
      "600/600 [==============================] - 0s 212us/step - loss: 0.0161 - acc: 0.9983 - val_loss: 1.5512 - val_acc: 0.6850\n",
      "Epoch 40/50\n",
      "600/600 [==============================] - 0s 215us/step - loss: 0.0101 - acc: 0.9983 - val_loss: 1.5121 - val_acc: 0.7250\n",
      "Epoch 41/50\n",
      "600/600 [==============================] - 0s 228us/step - loss: 0.0132 - acc: 0.9983 - val_loss: 1.5248 - val_acc: 0.7050\n",
      "Epoch 42/50\n",
      "600/600 [==============================] - 0s 237us/step - loss: 0.0100 - acc: 0.9983 - val_loss: 1.5882 - val_acc: 0.6800\n",
      "Epoch 43/50\n",
      "600/600 [==============================] - 0s 208us/step - loss: 0.0102 - acc: 0.9983 - val_loss: 1.6002 - val_acc: 0.6900\n",
      "Epoch 44/50\n",
      "600/600 [==============================] - 0s 215us/step - loss: 0.0076 - acc: 0.9983 - val_loss: 1.5851 - val_acc: 0.7050\n",
      "Epoch 45/50\n",
      "600/600 [==============================] - ETA: 0s - loss: 0.0053 - acc: 1.000 - 0s 235us/step - loss: 0.0084 - acc: 0.9983 - val_loss: 1.5875 - val_acc: 0.6950\n",
      "Epoch 46/50\n",
      "600/600 [==============================] - 0s 246us/step - loss: 0.0102 - acc: 0.9983 - val_loss: 1.6196 - val_acc: 0.6800\n",
      "Epoch 47/50\n",
      "600/600 [==============================] - 0s 210us/step - loss: 0.0075 - acc: 0.9967 - val_loss: 1.6324 - val_acc: 0.6950\n",
      "Epoch 48/50\n",
      "600/600 [==============================] - 0s 201us/step - loss: 0.0085 - acc: 0.9967 - val_loss: 1.6279 - val_acc: 0.6850\n",
      "Epoch 49/50\n",
      "600/600 [==============================] - 0s 221us/step - loss: 0.0063 - acc: 0.9967 - val_loss: 1.6281 - val_acc: 0.6900\n",
      "Epoch 50/50\n",
      "600/600 [==============================] - 0s 197us/step - loss: 0.0059 - acc: 0.9983 - val_loss: 1.6368 - val_acc: 0.6850\n",
      "200/200 [==============================] - 0s 91us/step\n",
      "Test loss: 1.8840042781829833\n",
      "Test accuracy: 0.68\n"
     ]
    }
   ],
   "source": [
    "model = models.Sequential()\n",
    "model.add(layers.Dense(1024, activation='relu', input_shape=(X_train.shape[1],)))\n",
    "model.add(layers.Dense(512, activation='relu'))\n",
    "model.add(layers.Dense(256, activation='relu'))\n",
    "model.add(layers.Dense(128, activation='relu'))\n",
    "model.add(layers.Dense(64, activation='relu'))\n",
    "model.add(layers.Dense(10, activation='softmax'))\n",
    "\n",
    "model.compile(optimizer='adam',\n",
    "              loss='sparse_categorical_crossentropy',\n",
    "              metrics=['accuracy'])\n",
    "\n",
    "model.fit(partial_x_train,\n",
    "          partial_y_train,\n",
    "          epochs=50,\n",
    "          batch_size=128,\n",
    "          validation_data=(x_val, y_val))\n",
    "results = model.evaluate(X_test, y_test)\n",
    "print('Test loss:', results[0])\n",
    "print('Test accuracy:', results[1])"
   ]
  },
  {
   "cell_type": "code",
   "execution_count": 89,
   "metadata": {},
   "outputs": [],
   "source": [
    "predictions = model.predict(X_test[0])"
   ]
  },
  {
   "cell_type": "code",
   "execution_count": 90,
   "metadata": {},
   "outputs": [
    {
     "data": {
      "text/plain": [
       "(10,)"
      ]
     },
     "execution_count": 90,
     "metadata": {},
     "output_type": "execute_result"
    }
   ],
   "source": [
    "predictions[0].shape\n"
   ]
  },
  {
   "cell_type": "code",
   "execution_count": 93,
   "metadata": {},
   "outputs": [
    {
     "data": {
      "text/plain": [
       "0.99999994"
      ]
     },
     "execution_count": 93,
     "metadata": {},
     "output_type": "execute_result"
    }
   ],
   "source": [
    "np.sum(predictions[0])"
   ]
  },
  {
   "cell_type": "code",
   "execution_count": 94,
   "metadata": {},
   "outputs": [
    {
     "data": {
      "text/plain": [
       "8"
      ]
     },
     "execution_count": 94,
     "metadata": {},
     "output_type": "execute_result"
    }
   ],
   "source": [
    "np.argmax(predictions[0])"
   ]
  },
  {
   "cell_type": "code",
   "execution_count": 16,
   "metadata": {},
   "outputs": [
    {
     "data": {
      "text/plain": [
       "6"
      ]
     },
     "execution_count": 16,
     "metadata": {},
     "output_type": "execute_result"
    }
   ],
   "source": [
    "x = 0 \n",
    "y = 0 \n",
    "def incr(x): \n",
    "    y = x + 1\n",
    "    return y \n",
    "incr(5) \n",
    "\n"
   ]
  },
  {
   "cell_type": "code",
   "execution_count": 14,
   "metadata": {},
   "outputs": [
    {
     "name": "stdout",
     "output_type": "stream",
     "text": [
      "0 0\n"
     ]
    }
   ],
   "source": [
    "x=0\n",
    "y=0\n",
    "def incr(x):\n",
    "    y=x+1\n",
    "    return y\n",
    "incr(5)\n",
    "print(x,y)\n",
    "\n"
   ]
  },
  {
   "cell_type": "code",
   "execution_count": 20,
   "metadata": {},
   "outputs": [
    {
     "name": "stdout",
     "output_type": "stream",
     "text": [
      "25\n",
      "1\n"
     ]
    }
   ],
   "source": [
    "x=0\n",
    "numcalls = 0 \n",
    "def square(x): \n",
    "    global numcalls \n",
    "    numcalls = numcalls + 1 \n",
    "    return x * x\n",
    "print (square(5))\n",
    "print(numcalls)\n"
   ]
  },
  {
   "cell_type": "code",
   "execution_count": 23,
   "metadata": {},
   "outputs": [
    {
     "name": "stdout",
     "output_type": "stream",
     "text": [
      "Mon Jun 10 16:53:47 2019\n"
     ]
    }
   ],
   "source": [
    "import time\n",
    "print (time.asctime())\n"
   ]
  },
  {
   "cell_type": "raw",
   "metadata": {},
   "source": [
    "print(range(40))\n",
    "\n"
   ]
  },
  {
   "cell_type": "code",
   "execution_count": 25,
   "metadata": {},
   "outputs": [
    {
     "data": {
      "text/plain": [
       "range(3, 6)"
      ]
     },
     "execution_count": 25,
     "metadata": {},
     "output_type": "execute_result"
    }
   ],
   "source": [
    "range(3,6)"
   ]
  },
  {
   "cell_type": "code",
   "execution_count": 28,
   "metadata": {},
   "outputs": [
    {
     "data": {
      "text/plain": [
       "<zip at 0x1632e1bff48>"
      ]
     },
     "execution_count": 28,
     "metadata": {},
     "output_type": "execute_result"
    }
   ],
   "source": [
    "zip([\"a\", \"b\", \"c\"], [1, 2, 3])\n"
   ]
  },
  {
   "cell_type": "code",
   "execution_count": 29,
   "metadata": {},
   "outputs": [
    {
     "name": "stdout",
     "output_type": "stream",
     "text": [
      "<zip object at 0x000001632E1BFFC8>\n"
     ]
    }
   ],
   "source": [
    "print (zip([\"a\", \"b\", \"c\"], [1, 2, 3]))"
   ]
  },
  {
   "cell_type": "code",
   "execution_count": 33,
   "metadata": {},
   "outputs": [
    {
     "name": "stdout",
     "output_type": "stream",
     "text": [
      "[1.5, 2, [1, 2]]\n",
      "2\n",
      "3\n"
     ]
    }
   ],
   "source": [
    "a = [1, 2]\n",
    "b = [1.5, 2, a]\n",
    "print (b)\n",
    "print(len(a))\n",
    "print(x)\n"
   ]
  },
  {
   "cell_type": "code",
   "execution_count": 36,
   "metadata": {},
   "outputs": [
    {
     "name": "stdout",
     "output_type": "stream",
     "text": [
      "[20, 21, [3, 4]]\n",
      "[20, 21, 2]\n"
     ]
    }
   ],
   "source": [
    "x = [20, 21, [22]] \n",
    "x[2][0] = 3 \n",
    "x[2].append(4) \n",
    "print (x) \n",
    "x[2] = 2 \n",
    "print (x)\n"
   ]
  },
  {
   "cell_type": "code",
   "execution_count": null,
   "metadata": {},
   "outputs": [],
   "source": []
  }
 ],
 "metadata": {
  "kernelspec": {
   "display_name": "Python 3",
   "language": "python",
   "name": "python3"
  },
  "language_info": {
   "codemirror_mode": {
    "name": "ipython",
    "version": 3
   },
   "file_extension": ".py",
   "mimetype": "text/x-python",
   "name": "python",
   "nbconvert_exporter": "python",
   "pygments_lexer": "ipython3",
   "version": "3.7.7"
  }
 },
 "nbformat": 4,
 "nbformat_minor": 2
}
