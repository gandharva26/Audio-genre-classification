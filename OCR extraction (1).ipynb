{
 "cells": [
  {
   "cell_type": "code",
   "execution_count": 3,
   "metadata": {},
   "outputs": [
    {
     "name": "stdout",
     "output_type": "stream",
     "text": [
      "he\n",
      "\n",
      "Bream Optometry, Inc. Receipt Date : 05/18/2020\n",
      "\n",
      "7095 Marketplace Or., Web Site : hitp:/Amww.breamoptometry.com\n",
      "Santa Barbara, CA, 93117-5905 Provider : Cory Bream\n",
      "Phone : (805) 562-1300 NPI: 1053468439\n",
      "\n",
      "Federal Tax ID: 0\n",
      "Patient : Deshpande, Vaishali\n",
      "\n",
      "5062 Birchwood Rd.\n",
      "Santa Barbara, CA, 93111\n",
      "Date Invoice Description cer Qty Fee Tax Amount\n",
      "05/18/2020 7682 Est. Comp. Exam 92014 1 $75.00 $0.00 $0.00\n",
      "05/18/2020 7682 Contact Lens Fitting- Advanced 92310 1 $64.00 $0.00 $0.00\n",
      "05/18/2020 7682 Service Co-Pay 1 $70.00 $0.00 $70.00\n",
      "Total $70.00\n",
      "_——_—_—_\n",
      "Payment Date Payment Method Amount\n",
      "05/18/2020 Master Card $70.00\n",
      "Remaining Balance $0.00\n",
      "Eee\n",
      "Details: Insurance Savings $139.00\n",
      "Patient Discount $0.00\n",
      "\n",
      "Please note:\n",
      "05/18/2020\n",
      "['Patient : Deshpande, Vaishali', 'Patient Discount $0.00']\n",
      "['Total $70.00']\n",
      "['Phone : (805) 562-1300 NPI: 1053468439']\n",
      "{'date': '05/18/2020', 'Amount': ['Total $70.00'], 'Phone': ['Phone : (805) 562-1300 NPI: 1053468439'], 'Name': 'Deshpande, Vaishali', 'website': 'hitp:/Amww.breamoptometry.com'}\n"
     ]
    }
   ],
   "source": [
    "import re\n",
    "import cv2\n",
    "import pytesseract\n",
    "from pytesseract import Output\n",
    "pytesseract.pytesseract.tesseract_cmd = r\"C:\\Users\\Gandharva\\AppData\\Local\\Tesseract-OCR\\tesseract.exe\"\n",
    "\n",
    "image = cv2.imread(r\"C:\\Users\\Gandharva\\Desktop\\1.jpg\")\n",
    "image_copy = image.copy()\n",
    "datep=''\n",
    "s=(pytesseract.image_to_string(r\"C:\\Users\\Gandharva\\Desktop\\1.jpg\"))\n",
    "d = pytesseract.image_to_data(image, output_type=Output.DICT)\n",
    "#print(d['text'])\n",
    "#print(type(d['text'][0]))\n",
    "print(s)\n",
    "\n",
    "#date = re.search(d['text'], s)\n",
    "#print(date)\n",
    "#print(x)\n",
    "#x = re.search('^\\d{1,2}\\/\\d{1,2}\\/\\d{4}$', s)\n",
    "\n",
    "\n",
    "\n",
    "import re\n",
    "\n",
    "\n",
    "# date pattern\n",
    "pattern = '(\\d{2})/(\\d{2})/(\\d{4})'\n",
    "\n",
    "\n",
    "# match variable contains a date Match object.\n",
    "match = re.search(pattern, s) \n",
    "d1=''\n",
    "if match:\n",
    "    d1=match.group()\n",
    "    print(match.group())\n",
    "    \n",
    "\n",
    "    \n",
    "matched_lines = [line for line in s.split('\\n') if \"Patient\" in line]\n",
    "print(matched_lines)\n",
    "m1=matched_lines\n",
    "matched_lines = [line for line in s.split('\\n') if \"Total\" in line]\n",
    "\n",
    "print(matched_lines)\n",
    "m2=matched_lines\n",
    "matched_lines = [line for line in s.split('\\n') if \"Phone\" in line]\n",
    "print(matched_lines)\n",
    "m3=matched_lines\n",
    "\n",
    "\n",
    "#website regex pattern\n",
    "\n",
    "for i in range(0,len(d['text'])):\n",
    "    if('.com' in d['text'][i]):\n",
    "            w=d['text'][i]\n",
    "\n",
    "import json\n",
    "dic={}\n",
    "dic[\"date\"]=d1\n",
    "dic[\"Amount\"]=m2\n",
    "dic[\"Phone\"]=m3\n",
    "dic[\"Name\"]='Deshpande, Vaishali'\n",
    "dic['website']=w\n",
    "print(dic)\n",
    "\n",
    "\n",
    "  \n",
    "\n",
    "\n"
   ]
  },
  {
   "cell_type": "code",
   "execution_count": 31,
   "metadata": {},
   "outputs": [],
   "source": [
    "\n",
    "# dictionary for extracting line item headers\n",
    "\n",
    "lineitemlist=['Item Description','Total Qty','Total Quantity','Rate','Description','Tax','Amount','Date','Invoice no.','Invoice number','Net Amount','net_amt','Quantity','Qty','Fee','Rate','Discount','Tax',]"
   ]
  },
  {
   "cell_type": "code",
   "execution_count": 11,
   "metadata": {},
   "outputs": [
    {
     "name": "stdout",
     "output_type": "stream",
     "text": [
      "['he', '', 'Bream Optometry, Inc. Receipt Date : 05/18/2020', '', '7095 Marketplace Or., Web Site : hitp:/Amww.breamoptometry.com', 'Santa Barbara, CA, 93117-5905 Provider : Cory Bream', 'Phone : (805) 562-1300 NPI: 1053468439', '', 'Federal Tax ID: 0', 'Patient : Deshpande, Vaishali', '', '5062 Birchwood Rd.', 'Santa Barbara, CA, 93111', 'Date Invoice Description cer Qty Fee Tax Amount', '05/18/2020 7682 Est. Comp. Exam 92014 1 $75.00 $0.00 $0.00', '05/18/2020 7682 Contact Lens Fitting- Advanced 92310 1 $64.00 $0.00 $0.00', '05/18/2020 7682 Service Co-Pay 1 $70.00 $0.00 $70.00', 'Total $70.00', '_——_—_—_', 'Payment Date Payment Method Amount', '05/18/2020 Master Card $70.00', 'Remaining Balance $0.00', 'Eee', 'Details: Insurance Savings $139.00', 'Patient Discount $0.00', '', 'Please note:']\n",
      "13\n"
     ]
    }
   ],
   "source": [
    "# algorithm for extracting header item line\n",
    "matched_lines = [line for line in s.split('\\n')]\n",
    "print(matched_lines)\n",
    "for i in range(0,len(matched_lines)):\n",
    "    c=0\n",
    "    for j in range(0,len(lineitemlist)):\n",
    "        if(lineitemlist[j] in matched_lines[i]):\n",
    "            c=c+1\n",
    "    if(c>=3):\n",
    "        x=i\n",
    "print(x)"
   ]
  },
  {
   "cell_type": "code",
   "execution_count": 12,
   "metadata": {},
   "outputs": [
    {
     "name": "stdout",
     "output_type": "stream",
     "text": [
      "Date Invoice Description cer Qty Fee Tax Amount\n",
      "['Date', 'Invoice', 'Description', 'cer', 'Qty', 'Fee', 'Tax', 'Amount']\n"
     ]
    }
   ],
   "source": [
    "print(matched_lines[x]) # description line\n",
    "a=matched_lines[x].split(' ')\n",
    "print(a)"
   ]
  },
  {
   "cell_type": "code",
   "execution_count": 14,
   "metadata": {},
   "outputs": [
    {
     "name": "stdout",
     "output_type": "stream",
     "text": [
      "05/18/2020 7682 Est. Comp. Exam 92014 1 $75.00 $0.00 $0.00\n",
      "05/18/2020 7682 Contact Lens Fitting- Advanced 92310 1 $64.00 $0.00 $0.00\n",
      "05/18/2020 7682 Service Co-Pay 1 $70.00 $0.00 $70.00\n",
      "05/18/2020 7682 Est. Comp. Exam 92014 1 $75.00 $0.00 $0.00\n",
      "05/18/2020 7682 Contact Lens Fitting- Advanced 92310 1 $64.00 $0.00 $0.00\n",
      "05/18/2020 7682 Service Co-Pay 1 $70.00 $0.00 $70.00\n",
      "\n"
     ]
    }
   ],
   "source": [
    "s=len(matched_lines[x])\n",
    "b=''\n",
    "for i in range(x+1,len(matched_lines)-1):\n",
    "    \n",
    "    if(len(matched_lines[i])>s+30 or len(matched_lines[i])<s-30):\n",
    "        break\n",
    "    b=b+matched_lines[i]+'\\n'\n",
    "    print(matched_lines[i])\n",
    "print(b)\n",
    "    #incase they terminate it with an empty line or a drop in number of elements works"
   ]
  },
  {
   "cell_type": "code",
   "execution_count": 18,
   "metadata": {},
   "outputs": [
    {
     "name": "stdout",
     "output_type": "stream",
     "text": [
      "Date Invoice Description cer Qty Fee Tax Amount\n",
      "05/18/2020 7682 Est. Comp. Exam 92014 1 $75.00 $0.00 $0.00\n",
      "05/18/2020 7682 Contact Lens Fitting- Advanced 92310 1 $64.00 $0.00 $0.00\n",
      "05/18/2020 7682 Service Co-Pay 1 $70.00 $0.00 $70.00\n",
      "\n"
     ]
    }
   ],
   "source": [
    "m=matched_lines[x]+'\\n'+b\n",
    "print(m)\n",
    "dic['line items']=m\n"
   ]
  },
  {
   "cell_type": "code",
   "execution_count": 19,
   "metadata": {},
   "outputs": [
    {
     "name": "stdout",
     "output_type": "stream",
     "text": [
      "{'date': '05/18/2020', 'Amount': ['Total $70.00'], 'Phone': ['Phone : (805) 562-1300 NPI: 1053468439'], 'Name': 'Deshpande, Vaishali', 'website': 'hitp:/Amww.breamoptometry.com', 'line items': 'Date Invoice Description cer Qty Fee Tax Amount\\n05/18/2020 7682 Est. Comp. Exam 92014 1 $75.00 $0.00 $0.00\\n05/18/2020 7682 Contact Lens Fitting- Advanced 92310 1 $64.00 $0.00 $0.00\\n05/18/2020 7682 Service Co-Pay 1 $70.00 $0.00 $70.00\\n'}\n"
     ]
    }
   ],
   "source": [
    "print(dic)"
   ]
  },
  {
   "cell_type": "code",
   "execution_count": null,
   "metadata": {},
   "outputs": [],
   "source": [
    "#ner module for line item classification \n",
    "\n",
    "import spacy\n",
    "from spacy import displacy\n",
    "from collections import Counter\n",
    "import en_core_web_sm\n",
    "nlp = en_core_web_sm.load()\n",
    "\n",
    "#implement NER for each line item to categorize \n",
    "\n",
    "doc = nlp('05/18/2020 7682 Est. Comp. Exam 92014 1 $75.00 $0.00 $0.00 ')\n",
    "s=[(X.text, X.label_) for X in doc.ents]\n",
    "for i in range(0,len(s)):\n",
    "    if('MONEY' in s[i]):\n",
    "        print(s[i])\n",
    "print(s)\n",
    "\n",
    "doc = nlp('05/18/2020 7682 Contact Lens Fitting- Advanced 92310 1 $64.00 $0.00 $0.00') \n",
    "s=[(X.text, X.label_) for X in doc.ents]\n",
    "for i in range(0,len(s)):\n",
    "    if('MONEY' in s[i]):\n",
    "        print(s[i])\n",
    "print(s)\n",
    "\n",
    "\n",
    "doc=nlp('05/18/2020 7682 Service Co-Pay 1 $70.00 $0.00 $70.00')\n",
    "s=[(X.text, X.label_) for X in doc.ents]\n",
    "for i in range(0,len(s)):\n",
    "    if('MONEY' in s[i]):\n",
    "        print(s[i])\n",
    "print(s)"
   ]
  },
  {
   "cell_type": "code",
   "execution_count": null,
   "metadata": {},
   "outputs": [],
   "source": [
    "# Output through colab notebook for entity recognition\n",
    "\n",
    "('75.00', 'MONEY')\n",
    "('64.00', 'MONEY')\n",
    "('70.00', 'MONEY')"
   ]
  },
  {
   "cell_type": "code",
   "execution_count": 32,
   "metadata": {},
   "outputs": [
    {
     "name": "stdout",
     "output_type": "stream",
     "text": [
      "DUPLICATE FOR TRANSPORTER EDI Passed_Autodx\n",
      "\n",
      "EDI data validated\n",
      "\n",
      "cee cence TINT\n",
      "Bae canescens\n",
      "\n",
      "INVOICE NO :2240142574 trem oF SUPPLY :15:32:16\n",
      "INVOICE DATE:04.06.2020 PLACE OF SUPPLY:27 Maharashtra\n",
      "\n",
      " \n",
      "\n",
      " \n",
      "\n",
      "WHETHER TAXABLE ON REVERSE CHARGES : Yes/No/NA\n",
      "\n",
      " \n",
      "\n",
      " \n",
      "\n",
      " \n",
      "\n",
      " \n",
      "\n",
      " \n",
      "\n",
      " \n",
      "\n",
      "| Details of Receiver: ils of Consignee:\n",
      "\n",
      "BAJAJ AUTO LIMITED - CHAKAN PLOT | BAJAJ AUTO LIMITED - CHAKAN PLOT\n",
      "NO. A-1, MIDC CHAKAN, NO, A-1, MIDC CHAKAN,\n",
      "VILLAGE-MAHALUNGE, CHAKAN VILLAGE-MAHALUNGE, CHAKAN\n",
      "PUNE 410501 MAHARASHTRA PUNE 410501 MAHARASHTRA\n",
      "India India\n",
      "\n",
      "STATECODE27 STATECODE27\n",
      "|GSTIN227AADCB2923MiZL. ISTIN27AADCR2023MIZL\n",
      "Customer Reference E-way Bill Details\n",
      "CustomerPO 4110022561 _|e-Waybill No.\n",
      "\n",
      "Customer PO Date: e-Waybill Date:\n",
      "\n",
      "Unloading Point: CHOI -CSR1_| Packing Details: 08X06+04X12\n",
      "Vehicle No. : MHi4EM2636\n",
      "\n",
      "LR No: 2218790\n",
      "\n",
      " \n",
      "\n",
      " \n",
      "\n",
      "  \n",
      "\n",
      " \n",
      "\n",
      " \n",
      "\n",
      " \n",
      "\n",
      " \n",
      "\n",
      " \n",
      "\n",
      " \n",
      "\n",
      " \n",
      "\n",
      " \n",
      "\n",
      " \n",
      "\n",
      "EDI No 17059463\n",
      "Vendor Code _|106547\n",
      "\n",
      "[invoice No 12240142574 |\n",
      "\n",
      "Invoice Date [04.06.2020\n",
      "\n",
      "PO No 4110022561\n",
      "\n",
      "Line Item No__|00050\n",
      "\n",
      "Rate (INR) 1568.17\n",
      "\n",
      "Item Code g¥351037\n",
      "\n",
      "HsN/sac cope _|85119000\n",
      "\n",
      "Invoice Qty _|48.000\n",
      "\n",
      "Bill Amt (Rs) _|96348.38\n",
      "\n",
      "ITEM DESCRIPTION TOTAL QTY TOTAL AMOUNT\n",
      "\n",
      "   \n",
      " \n",
      "    \n",
      "\n",
      " \n",
      "\n",
      " \n",
      "\n",
      "FLYWHEEL MAGNETO ASSY 48.000|NO\n",
      "9¥351037 $343038100\n",
      "\n",
      "75,272.16\n",
      "\n",
      " \n",
      "\n",
      " \n",
      "\n",
      " \n",
      "\n",
      " \n",
      "\n",
      "ADDITIONAL VALUE FOR TAX TRANSACTION VALUE\n",
      "\n",
      "CGST IN WORDS : TEN THOUSAND FIVE HUNDRED THIRTY EIGHT Rupess [CCST 14%\n",
      "EEEVEN Easse SGST 14%\n",
      "SGST IN WORDS: TEN THOUSAND FIVE HUNDRED THIRTY EIGHT Rupees\n",
      "ELEVEN Paise\n",
      "\n",
      "IGST IN WORDS: xm,\n",
      "\n",
      " \n",
      "\n",
      " \n",
      "\n",
      " \n",
      "\n",
      " \n",
      "\n",
      " \n",
      "\n",
      "IGsT & =\n",
      "\n",
      " \n",
      "\n",
      " \n",
      "\n",
      " \n",
      "\n",
      "Tax Amount Subject to Reverse Charge:\n",
      "\n",
      " \n",
      "\n",
      " \n",
      "\n",
      " \n",
      "\n",
      "Transport Mode (By Road/Air) : 3WHL.\n",
      "\n",
      " \n",
      "\n",
      " \n",
      "\n",
      "Transporter Name : SHRIRAM TRANSPORT\n",
      "\n",
      " \n",
      "\n",
      " \n",
      "\n",
      " \n",
      "\n",
      " \n",
      "\n",
      " \n",
      "\n",
      "Grand Total 96348.38\n",
      "[]\n",
      "['Grand Total 96348.38']\n",
      "[]\n",
      "{'date': '', 'Amount': ['Grand Total 96348.38'], 'Phone': [], 'website': 'hitp:/Amww.breamoptometry.com'}\n"
     ]
    }
   ],
   "source": [
    "import re\n",
    "import cv2\n",
    "import pytesseract\n",
    "from pytesseract import Output\n",
    "pytesseract.pytesseract.tesseract_cmd = r\"C:\\Users\\Gandharva\\AppData\\Local\\Tesseract-OCR\\tesseract.exe\"\n",
    "\n",
    "image = cv2.imread(r\"C:\\Users\\Gandharva\\Desktop\\1.jpg\")\n",
    "image_copy = image.copy()\n",
    "datep=''\n",
    "s=(pytesseract.image_to_string(r\"C:\\Users\\Gandharva\\Downloads\\x.jpg\"))\n",
    "d = pytesseract.image_to_data(image, output_type=Output.DICT)\n",
    "#print(d['text'])\n",
    "#print(type(d['text'][0]))\n",
    "print(s)\n",
    "\n",
    "#date = re.search(d['text'], s)\n",
    "#print(date)\n",
    "#print(x)\n",
    "#x = re.search('^\\d{1,2}\\/\\d{1,2}\\/\\d{4}$', s)\n",
    "\n",
    "\n",
    "\n",
    "import re\n",
    "\n",
    "\n",
    "# date pattern\n",
    "pattern = ['(\\d{2})/(\\d{2})/(\\d{4})','(\\d{2}).(\\d{2}).(\\d{4})','(\\d{2})-([a-zA-Z]*)-(\\d{4})']\n",
    "\n",
    "\n",
    "# match variable contains a date Match object.\n",
    "match = re.search(pattern, s) \n",
    "d1=''\n",
    "if match:\n",
    "    d1=match.group()\n",
    "    print(match.group())\n",
    "    \n",
    "\n",
    "    \n",
    "matched_lines = [line for line in s.split('\\n') if \"Patient\" in line]\n",
    "print(matched_lines)\n",
    "m1=matched_lines\n",
    "matched_lines = [line for line in s.split('\\n') if \"Total\" in line]\n",
    "\n",
    "print(matched_lines)\n",
    "m2=matched_lines\n",
    "matched_lines = [line for line in s.split('\\n') if \"Phone\" in line]\n",
    "print(matched_lines)\n",
    "m3=matched_lines\n",
    "\n",
    "\n",
    "#website regex pattern\n",
    "w=''\n",
    "for i in range(0,len(d['text'])):\n",
    "    if('.com' in d['text'][i]):\n",
    "            w=d['text'][i]\n",
    "\n",
    "import json\n",
    "dic={}\n",
    "dic[\"date\"]=d1\n",
    "dic[\"Amount\"]=m2\n",
    "dic[\"Phone\"]=m3\n",
    "dic['website']=w\n",
    "print(dic)\n",
    "\n",
    "\n",
    "  \n",
    "\n",
    "\n"
   ]
  },
  {
   "cell_type": "code",
   "execution_count": 33,
   "metadata": {},
   "outputs": [
    {
     "name": "stdout",
     "output_type": "stream",
     "text": [
      "['DUPLICATE FOR TRANSPORTER EDI Passed_Autodx', '', 'EDI data validated', '', 'cee cence TINT', 'Bae canescens', '', 'INVOICE NO :2240142574 trem oF SUPPLY :15:32:16', 'INVOICE DATE:04.06.2020 PLACE OF SUPPLY:27 Maharashtra', '', ' ', '', ' ', '', 'WHETHER TAXABLE ON REVERSE CHARGES : Yes/No/NA', '', ' ', '', ' ', '', ' ', '', ' ', '', ' ', '', ' ', '', '| Details of Receiver: ils of Consignee:', '', 'BAJAJ AUTO LIMITED - CHAKAN PLOT | BAJAJ AUTO LIMITED - CHAKAN PLOT', 'NO. A-1, MIDC CHAKAN, NO, A-1, MIDC CHAKAN,', 'VILLAGE-MAHALUNGE, CHAKAN VILLAGE-MAHALUNGE, CHAKAN', 'PUNE 410501 MAHARASHTRA PUNE 410501 MAHARASHTRA', 'India India', '', 'STATECODE27 STATECODE27', '|GSTIN227AADCB2923MiZL. ISTIN27AADCR2023MIZL', 'Customer Reference E-way Bill Details', 'CustomerPO 4110022561 _|e-Waybill No.', '', 'Customer PO Date: e-Waybill Date:', '', 'Unloading Point: CHOI -CSR1_| Packing Details: 08X06+04X12', 'Vehicle No. : MHi4EM2636', '', 'LR No: 2218790', '', ' ', '', ' ', '', '  ', '', ' ', '', ' ', '', ' ', '', ' ', '', ' ', '', ' ', '', ' ', '', ' ', '', ' ', '', 'EDI No 17059463', 'Vendor Code _|106547', '', '[invoice No 12240142574 |', '', 'Invoice Date [04.06.2020', '', 'PO No 4110022561', '', 'Line Item No__|00050', '', 'Rate (INR) 1568.17', '', 'Item Code g¥351037', '', 'HsN/sac cope _|85119000', '', 'Invoice Qty _|48.000', '', 'Bill Amt (Rs) _|96348.38', '', 'ITEM DESCRIPTION TOTAL QTY TOTAL AMOUNT', '', '   ', ' ', '    ', '', ' ', '', ' ', '', 'FLYWHEEL MAGNETO ASSY 48.000|NO', '9¥351037 $343038100', '', '75,272.16', '', ' ', '', ' ', '', ' ', '', ' ', '', 'ADDITIONAL VALUE FOR TAX TRANSACTION VALUE', '', 'CGST IN WORDS : TEN THOUSAND FIVE HUNDRED THIRTY EIGHT Rupess [CCST 14%', 'EEEVEN Easse SGST 14%', 'SGST IN WORDS: TEN THOUSAND FIVE HUNDRED THIRTY EIGHT Rupees', 'ELEVEN Paise', '', 'IGST IN WORDS: xm,', '', ' ', '', ' ', '', ' ', '', ' ', '', ' ', '', 'IGsT & =', '', ' ', '', ' ', '', ' ', '', 'Tax Amount Subject to Reverse Charge:', '', ' ', '', ' ', '', ' ', '', 'Transport Mode (By Road/Air) : 3WHL.', '', ' ', '', ' ', '', 'Transporter Name : SHRIRAM TRANSPORT', '', ' ', '', ' ', '', ' ', '', ' ', '', ' ', '', 'Grand Total 96348.38']\n",
      "ITEM DESCRIPTION TOTAL QTY TOTAL AMOUNT\n"
     ]
    }
   ],
   "source": [
    "m=3\n",
    "imp=0\n",
    "matched_lines = [line for line in s.split('\\n')]\n",
    "print(matched_lines)\n",
    "for i in range(0,len(matched_lines)):\n",
    "    c=0\n",
    "    for j in range(0,len(lineitemlist)):\n",
    "        if(lineitemlist[j].casefold() in matched_lines[i].casefold()):\n",
    "            c=c+1\n",
    "            if(c>m):\n",
    "                m=c\n",
    "                imp=i\n",
    "                \n",
    "\n",
    "print(matched_lines[imp])"
   ]
  },
  {
   "cell_type": "code",
   "execution_count": 55,
   "metadata": {},
   "outputs": [
    {
     "name": "stdout",
     "output_type": "stream",
     "text": [
      "04.06.2020\n"
     ]
    }
   ],
   "source": [
    "# date pattern\n",
    "\n",
    "#extract the line that has date in it to optimize comparision\n",
    "\n",
    "\n",
    "pattern = ['(\\d{2})/(\\d{2})/(\\d{4})','(\\d{2}).(\\d{2}).(\\d{4})','(\\d{2})-([a-zA-Z]*)-(\\d{4})']\n",
    "\n",
    "matched_lines = [line for line in s.split('\\n') if 'Date' in line]\n",
    "\n",
    "d1=''\n",
    "\n",
    "if(matched_lines):\n",
    "    # match variable contains a date Match object.\n",
    "    for j in range(0,len(matched_lines)):\n",
    "        for i in range(0,len(pattern)):\n",
    "            match = re.search(pattern[i], matched_lines[j])\n",
    "            if match:\n",
    "                d1=match.group()\n",
    "\n",
    "                break\n",
    "\n",
    "#if date is not present compare the entire extracted string with the pattern                \n",
    "else:\n",
    "    for i in range(0,len(pattern)):\n",
    "            match = re.search(pattern[i], s)\n",
    "            if match:\n",
    "                d1=match.group()\n",
    "\n",
    "                break\n",
    "        \n",
    "        \n",
    "print(d1)\n"
   ]
  },
  {
   "cell_type": "code",
   "execution_count": 44,
   "metadata": {},
   "outputs": [
    {
     "name": "stdout",
     "output_type": "stream",
     "text": [
      "| Details of Receiver: ils of Consignee:\n",
      "Customer Reference E-way Bill Details\n",
      "Unloading Point: CHOI -CSR1_| Packing Details: 08X06+04X12\n"
     ]
    }
   ],
   "source": [
    "for i in range(0,len(matched_lines)):\n",
    "    if('Details' in matched_lines[i] ):\n",
    "        print(matched_lines[i])"
   ]
  },
  {
   "cell_type": "code",
   "execution_count": 46,
   "metadata": {},
   "outputs": [],
   "source": [
    "import re\n",
    "import cv2\n",
    "import pytesseract\n",
    "from pytesseract import Output\n",
    "pytesseract.pytesseract.tesseract_cmd = r\"C:\\Users\\Gandharva\\AppData\\Local\\Tesseract-OCR\\tesseract.exe\"\n",
    "\n",
    "image = cv2.imread(r\"C:\\Users\\Gandharva\\Desktop\\1.jpg\")\n",
    "image_copy = image.copy()\n",
    "datep=''\n",
    "s=(pytesseract.image_to_string(r\"C:\\Users\\Gandharva\\Downloads\\x.jpg\"))\n",
    "d = pytesseract.image_to_data(image, output_type=Output.DICT)"
   ]
  },
  {
   "cell_type": "code",
   "execution_count": 56,
   "metadata": {},
   "outputs": [
    {
     "name": "stdout",
     "output_type": "stream",
     "text": [
      "['Transporter Name : SHRIRAM TRANSPORT']\n"
     ]
    }
   ],
   "source": [
    "matched_lines = [line for line in s.split('\\n') if 'Name' in line]\n",
    "print(matched_lines)"
   ]
  },
  {
   "cell_type": "code",
   "execution_count": 63,
   "metadata": {},
   "outputs": [],
   "source": [
    "import re\n",
    "import cv2\n",
    "import pytesseract\n",
    "from pytesseract import Output\n",
    "pytesseract.pytesseract.tesseract_cmd = r\"C:\\Users\\Gandharva\\AppData\\Local\\Tesseract-OCR\\tesseract.exe\"\n",
    "\n",
    "image = cv2.imread(r\"C:\\Users\\Gandharva\\Desktop\\checks.jpg\")\n",
    "image_copy = image.copy()\n",
    "datep=''\n",
    "s=(pytesseract.image_to_string(r\"C:\\Users\\Gandharva\\Desktop\\checks.jpg\"))\n",
    "d = pytesseract.image_to_data(image, output_type=Output.DICT)"
   ]
  },
  {
   "cell_type": "code",
   "execution_count": 64,
   "metadata": {},
   "outputs": [
    {
     "name": "stdout",
     "output_type": "stream",
     "text": [
      "‘ALEX J. CUSTOMER. 401\n",
      "\n",
      " \n",
      "\n",
      " \n",
      "\n",
      " \n",
      "\n",
      "YOUR CMY STATE, 1204-5678 om 16/2017\n",
      "suse Electric Company (130.45\n",
      "\n",
      " \n",
      "\n",
      "One hundred thirty and 45/100\n",
      "\n",
      "were July electric bill Hele oe pS ¢ hes y\n"
     ]
    }
   ],
   "source": [
    "print(s)"
   ]
  },
  {
   "cell_type": "code",
   "execution_count": null,
   "metadata": {},
   "outputs": [],
   "source": []
  }
 ],
 "metadata": {
  "kernelspec": {
   "display_name": "Python 3",
   "language": "python",
   "name": "python3"
  },
  "language_info": {
   "codemirror_mode": {
    "name": "ipython",
    "version": 3
   },
   "file_extension": ".py",
   "mimetype": "text/x-python",
   "name": "python",
   "nbconvert_exporter": "python",
   "pygments_lexer": "ipython3",
   "version": "3.7.7"
  }
 },
 "nbformat": 4,
 "nbformat_minor": 4
}
